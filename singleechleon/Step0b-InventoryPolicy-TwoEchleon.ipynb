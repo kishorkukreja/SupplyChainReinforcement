{
 "cells": [
  {
   "cell_type": "markdown",
   "id": "90209865",
   "metadata": {
    "ExecuteTime": {
     "end_time": "2021-10-15T14:01:18.562570Z",
     "start_time": "2021-10-15T14:01:18.551564Z"
    }
   },
   "source": [
    "## Import"
   ]
  },
  {
   "cell_type": "code",
   "execution_count": 1,
   "id": "c0cc4e9c",
   "metadata": {
    "ExecuteTime": {
     "end_time": "2021-10-15T14:39:50.718658Z",
     "start_time": "2021-10-15T14:39:47.934682Z"
    }
   },
   "outputs": [],
   "source": [
    "import pandas as pd\n",
    "import numpy as np\n",
    "import matplotlib.pyplot as plt\n",
    "import seaborn as sns\n",
    "from sklearn.model_selection import ParameterGrid\n",
    "sns.set_style(\"darkgrid\")\n",
    "sns.set_palette(\"rainbow\")\n",
    "sns.set_context(\"talk\")"
   ]
  },
  {
   "cell_type": "code",
   "execution_count": 2,
   "id": "3b6ce26a",
   "metadata": {
    "ExecuteTime": {
     "end_time": "2021-10-15T14:39:54.329475Z",
     "start_time": "2021-10-15T14:39:54.312437Z"
    }
   },
   "outputs": [],
   "source": [
    "import sys  \n",
    "sys.path.insert(0, r'C:\\Users\\kishore.kukreja\\Desktop\\Inventory Policy Two Echelon\\SCM-RL\\SCM\\Baseline')"
   ]
  },
  {
   "cell_type": "code",
   "execution_count": 3,
   "id": "67badc6d",
   "metadata": {
    "ExecuteTime": {
     "end_time": "2021-10-15T14:39:55.550156Z",
     "start_time": "2021-10-15T14:39:55.523195Z"
    }
   },
   "outputs": [],
   "source": [
    "from SQPolicy import SQPolicy, simulate, simulate_episode\n",
    "from Environment import SupplyChainEnvironment\n",
    "from utils import visualize_transitions"
   ]
  },
  {
   "cell_type": "code",
   "execution_count": 4,
   "id": "e84b07f5",
   "metadata": {
    "ExecuteTime": {
     "end_time": "2021-10-15T14:39:57.647990Z",
     "start_time": "2021-10-15T14:39:56.333599Z"
    }
   },
   "outputs": [],
   "source": [
    "from ax import optimize"
   ]
  },
  {
   "cell_type": "markdown",
   "id": "db9673dd",
   "metadata": {
    "ExecuteTime": {
     "end_time": "2021-10-15T14:08:30.800796Z",
     "start_time": "2021-10-15T14:08:30.788795Z"
    },
    "heading_collapsed": true
   },
   "source": [
    "## Data Read"
   ]
  },
  {
   "cell_type": "code",
   "execution_count": null,
   "id": "9f715567",
   "metadata": {
    "ExecuteTime": {
     "end_time": "2021-10-15T14:25:29.307331Z",
     "start_time": "2021-10-15T14:25:28.327244Z"
    },
    "hidden": true
   },
   "outputs": [],
   "source": [
    "df = pd.read_csv(r\"C:\\Users\\kishore.kukreja\\Desktop\\Inventory Policy Two Echelon\\SCM-RL\\data\\HistoricalProductDemand.csv\")"
   ]
  },
  {
   "cell_type": "code",
   "execution_count": null,
   "id": "bc3e5785",
   "metadata": {
    "ExecuteTime": {
     "end_time": "2021-10-15T14:26:01.512658Z",
     "start_time": "2021-10-15T14:25:29.421240Z"
    },
    "hidden": true
   },
   "outputs": [],
   "source": [
    "df[\"Date\"] = pd.to_datetime(df[\"Date\"]) # Convert Dates\n",
    "df[\"Order_Demand\"] = df[\"Order_Demand\"].fillna(0).apply(lambda x: pd.to_numeric(x, errors='coerce')) # Convert to Float\n",
    "df = df.dropna() # Remove rows with NaN"
   ]
  },
  {
   "cell_type": "code",
   "execution_count": null,
   "id": "0e141423",
   "metadata": {
    "ExecuteTime": {
     "end_time": "2021-10-15T14:26:01.753518Z",
     "start_time": "2021-10-15T14:26:01.560474Z"
    },
    "hidden": true
   },
   "outputs": [],
   "source": [
    "is_NaN = df.isnull()\n",
    "row_has_NaN = is_NaN.any(axis=1)\n",
    "rows_with_NaN = df[row_has_NaN]\n",
    "rows_with_NaN"
   ]
  },
  {
   "cell_type": "code",
   "execution_count": null,
   "id": "12143dc3",
   "metadata": {
    "ExecuteTime": {
     "end_time": "2021-10-15T14:26:03.330189Z",
     "start_time": "2021-10-15T14:26:01.845665Z"
    },
    "hidden": true
   },
   "outputs": [],
   "source": [
    "df = df.sort_values(by=[\"Product_Code\"])\n",
    "product_codes = df[\"Product_Code\"].drop_duplicates()"
   ]
  },
  {
   "cell_type": "code",
   "execution_count": null,
   "id": "1eb4f5d0",
   "metadata": {
    "ExecuteTime": {
     "end_time": "2021-10-15T14:26:03.558623Z",
     "start_time": "2021-10-15T14:26:03.425101Z"
    },
    "hidden": true
   },
   "outputs": [],
   "source": [
    "counts = df.groupby(\"Product_Code\").size()\n",
    "counts = counts.to_dict()"
   ]
  },
  {
   "cell_type": "code",
   "execution_count": null,
   "id": "d00e1cc3",
   "metadata": {
    "ExecuteTime": {
     "end_time": "2021-10-15T14:26:03.665077Z",
     "start_time": "2021-10-15T14:26:03.652604Z"
    },
    "hidden": true
   },
   "outputs": [],
   "source": [
    "counts = dict(sorted(counts.items(), key=lambda item: item[1], reverse=True))"
   ]
  },
  {
   "cell_type": "code",
   "execution_count": null,
   "id": "13258a90",
   "metadata": {
    "ExecuteTime": {
     "end_time": "2021-10-15T14:27:01.730593Z",
     "start_time": "2021-10-15T14:27:01.719595Z"
    },
    "hidden": true
   },
   "outputs": [],
   "source": [
    "for idx, (k, v) in enumerate(counts.items()):\n",
    "    print(f\"{k}: {v}\")\n",
    "    \n",
    "    if idx == 2:\n",
    "        break"
   ]
  },
  {
   "cell_type": "code",
   "execution_count": null,
   "id": "c0489e93",
   "metadata": {
    "ExecuteTime": {
     "end_time": "2021-10-15T14:27:02.165589Z",
     "start_time": "2021-10-15T14:27:01.883591Z"
    },
    "hidden": true
   },
   "outputs": [],
   "source": [
    "demand_1359 = df[df[\"Product_Code\"] == 'Product_1359'].drop(columns=[\"Product_Code\", \"Warehouse\", \"Product_Category\"])\n",
    "demand_1295 = df[df[\"Product_Code\"] == 'Product_1295'].drop(columns=[\"Product_Code\", \"Warehouse\", \"Product_Category\"])"
   ]
  },
  {
   "cell_type": "code",
   "execution_count": null,
   "id": "e1336a12",
   "metadata": {
    "ExecuteTime": {
     "end_time": "2021-10-15T14:27:02.330592Z",
     "start_time": "2021-10-15T14:27:02.319592Z"
    },
    "hidden": true
   },
   "outputs": [],
   "source": [
    "demand_1359.sort_values(by=\"Date\", inplace=True)\n",
    "demand_1295.sort_values(by=\"Date\", inplace=True)"
   ]
  },
  {
   "cell_type": "code",
   "execution_count": null,
   "id": "278056ff",
   "metadata": {
    "ExecuteTime": {
     "end_time": "2021-10-15T14:27:02.525589Z",
     "start_time": "2021-10-15T14:27:02.499595Z"
    },
    "hidden": true
   },
   "outputs": [],
   "source": [
    "demand_1359[\"Total_Demand\"] = demand_1359.groupby(\"Date\")[\"Order_Demand\"].transform('sum')\n",
    "demand_1295[\"Total_Demand\"] = demand_1295.groupby(\"Date\")[\"Order_Demand\"].transform('sum')"
   ]
  },
  {
   "cell_type": "code",
   "execution_count": null,
   "id": "b42d78df",
   "metadata": {
    "ExecuteTime": {
     "end_time": "2021-10-15T14:27:02.705597Z",
     "start_time": "2021-10-15T14:27:02.678592Z"
    },
    "hidden": true
   },
   "outputs": [],
   "source": [
    "demand_1359.drop_duplicates(subset=[\"Date\"], inplace=True)\n",
    "demand_1359.drop(columns=\"Order_Demand\", inplace=True)\n",
    "demand_1359.set_index(\"Date\", inplace=True)\n",
    "\n",
    "demand_1295.drop_duplicates(subset=[\"Date\"], inplace=True)\n",
    "demand_1295.drop(columns=\"Order_Demand\", inplace=True)\n",
    "demand_1295.set_index(\"Date\", inplace=True)"
   ]
  },
  {
   "cell_type": "code",
   "execution_count": null,
   "id": "3b81c7f8",
   "metadata": {
    "ExecuteTime": {
     "end_time": "2021-10-15T14:27:03.020607Z",
     "start_time": "2021-10-15T14:27:02.993593Z"
    },
    "hidden": true
   },
   "outputs": [],
   "source": [
    "demand_1359"
   ]
  },
  {
   "cell_type": "code",
   "execution_count": null,
   "id": "d18f6272",
   "metadata": {
    "ExecuteTime": {
     "end_time": "2021-10-15T14:27:03.230608Z",
     "start_time": "2021-10-15T14:27:03.203590Z"
    },
    "hidden": true
   },
   "outputs": [],
   "source": [
    "final = pd.merge(demand_1359, demand_1295, on=\"Date\")\n",
    "final.rename({\n",
    "    'Total_Demand_x': 'demand_1359',\n",
    "    'Total_Demand_y': 'demand_1295',\n",
    "}, axis='columns', inplace=True)"
   ]
  },
  {
   "cell_type": "code",
   "execution_count": null,
   "id": "5b517116",
   "metadata": {
    "ExecuteTime": {
     "end_time": "2021-10-15T14:27:03.845629Z",
     "start_time": "2021-10-15T14:27:03.383593Z"
    },
    "hidden": true
   },
   "outputs": [],
   "source": [
    "plt.figure(figsize=(9, 5))\n",
    "\n",
    "f, ax = plt.subplots(1, 1, figsize=(16, 7))\n",
    "\n",
    "ax.plot(final[\"demand_1359\"], label=\"Product_1359\")\n",
    "ax.plot(final[\"demand_1295\"], label=\"Product_1295\")\n",
    "\n",
    "ax.legend()"
   ]
  },
  {
   "cell_type": "code",
   "execution_count": null,
   "id": "43659b35",
   "metadata": {
    "ExecuteTime": {
     "end_time": "2021-10-15T14:27:04.070689Z",
     "start_time": "2021-10-15T14:27:03.998601Z"
    },
    "hidden": true
   },
   "outputs": [],
   "source": [
    "demand_1359.to_csv(r\"C:\\Users\\kishore.kukreja\\Desktop\\Inventory Policy Two Echelon\\SCM-RL\\data\\demand_1359.csv\")\n",
    "demand_1295.to_csv(r\"C:\\Users\\kishore.kukreja\\Desktop\\Inventory Policy Two Echelon\\SCM-RL\\data\\demand_1295.csv\")\n",
    "final.to_csv(r\"C:\\Users\\kishore.kukreja\\Desktop\\Inventory Policy Two Echelon\\SCM-RL\\data\\demand.csv\")"
   ]
  },
  {
   "cell_type": "markdown",
   "id": "f53a0c71",
   "metadata": {
    "ExecuteTime": {
     "end_time": "2021-10-15T14:10:07.402935Z",
     "start_time": "2021-10-15T14:10:07.391930Z"
    }
   },
   "source": [
    "## Create Environment"
   ]
  },
  {
   "cell_type": "code",
   "execution_count": 5,
   "id": "45993764",
   "metadata": {
    "ExecuteTime": {
     "end_time": "2021-10-15T14:40:00.884450Z",
     "start_time": "2021-10-15T14:40:00.870450Z"
    }
   },
   "outputs": [],
   "source": [
    "def eval_func(p: dict, log=False):\n",
    "    policy = SQPolicy(\n",
    "        factory_safety_stock=p['factory_s'],\n",
    "        factory_reorder_amount=p['factory_Q'],\n",
    "        safety_stock=(p['w1_s'], p['w2_s']),\n",
    "        reorder_amount=(p['w1_Q'], p['w2_Q']))\n",
    "\n",
    "    return np.mean(simulate(policy, num_episodes=50))"
   ]
  },
  {
   "cell_type": "code",
   "execution_count": 6,
   "id": "a09dbaf3",
   "metadata": {
    "ExecuteTime": {
     "end_time": "2021-10-15T14:40:01.386903Z",
     "start_time": "2021-10-15T14:40:01.375863Z"
    }
   },
   "outputs": [],
   "source": [
    "parameters = (\n",
    "    {\n",
    "        \"name\": \"factory_s\",\n",
    "        \"type\": \"range\",\n",
    "        \"bounds\": [0.0, 10.0],\n",
    "        \"value_type\": \"float\"\n",
    "    },\n",
    "    {\n",
    "        \"name\": \"factory_Q\",\n",
    "        \"type\": \"range\",\n",
    "        \"bounds\": [5.0, 10.0],\n",
    "        \"value_type\": \"float\"\n",
    "    },\n",
    "    {\n",
    "        \"name\": \"w1_s\",\n",
    "        \"type\": \"range\",\n",
    "        \"bounds\": [0.0, 10.0],\n",
    "        \"value_type\": \"float\"\n",
    "    },\n",
    "    {\n",
    "        \"name\": \"w1_Q\",\n",
    "        \"type\": \"range\",\n",
    "        \"bounds\": [5.0, 10.0],\n",
    "        \"value_type\": \"float\"\n",
    "    },\n",
    "    {\n",
    "        \"name\": \"w2_s\",\n",
    "        \"type\": \"range\",\n",
    "        \"bounds\": [0.0, 10.0],\n",
    "        \"value_type\": \"float\"\n",
    "    },\n",
    "    {\n",
    "        \"name\": \"w2_Q\",\n",
    "        \"type\": \"range\",\n",
    "        \"bounds\": [5.0, 10.0],\n",
    "        \"value_type\": \"float\"\n",
    "    },\n",
    ")"
   ]
  },
  {
   "cell_type": "code",
   "execution_count": 7,
   "id": "8fb5b7b7",
   "metadata": {
    "ExecuteTime": {
     "end_time": "2021-10-15T14:40:01.764069Z",
     "start_time": "2021-10-15T14:40:01.753081Z"
    }
   },
   "outputs": [],
   "source": [
    "# Reward: mean 6660.313520818671, standard deviation 489.4557712110093\n",
    "def bayesian_optimization(total_trials, parameters):\n",
    "    best_parameters, best_values, experiment, model = optimize(\n",
    "        parameters=parameters,\n",
    "        evaluation_function=eval_func,\n",
    "        minimize=False,\n",
    "        total_trials=total_trials\n",
    "    )\n",
    "\n",
    "    return best_parameters, best_values"
   ]
  },
  {
   "cell_type": "code",
   "execution_count": 8,
   "id": "5677a02a",
   "metadata": {
    "ExecuteTime": {
     "end_time": "2021-10-15T14:40:02.144131Z",
     "start_time": "2021-10-15T14:40:02.130133Z"
    }
   },
   "outputs": [],
   "source": [
    "# Reward: mean 5347.2, standard deviation 613.7202620086778\n",
    "def grid_search(p_grid1=[0, 5, 10],\n",
    "                p_grid2=[0, 5, 10]):\n",
    "\n",
    "    param_grid = {\n",
    "        'factory_s': p_grid1,\n",
    "        'factory_Q': p_grid1,\n",
    "        'w1_s': p_grid2,\n",
    "        'w2_s': p_grid2,\n",
    "        'w1_Q': p_grid2,\n",
    "        'w2_Q': p_grid2,\n",
    "    }\n",
    "\n",
    "    grid = ParameterGrid(param_grid)\n",
    "\n",
    "    i = 0\n",
    "    best_return = float('-inf')\n",
    "    for p in grid:\n",
    "        m_return = eval_func(p)\n",
    "        if m_return > best_return:\n",
    "            best_return = m_return\n",
    "            best_params = p\n",
    "\n",
    "        if i % 100 == 0:\n",
    "            print(f\"Configuration #{i} -- {best_return}\")\n",
    "        i += 1\n",
    "\n",
    "    return best_params, best_return"
   ]
  },
  {
   "cell_type": "code",
   "execution_count": 9,
   "id": "9a77869e",
   "metadata": {
    "ExecuteTime": {
     "end_time": "2021-10-15T14:40:02.492272Z",
     "start_time": "2021-10-15T14:40:02.483277Z"
    }
   },
   "outputs": [],
   "source": [
    "def main(total_trials=1, num_episodes=1, optimization_strategy=\"BayesianOptimization\"):\n",
    "    if optimization_strategy == \"BayesianOptimization\":\n",
    "        best_params, best_values = bayesian_optimization(\n",
    "            total_trials, parameters)\n",
    "    else:\n",
    "        best_params, best_values = grid_search()\n",
    "\n",
    "    print(f\"Best Parameters: \\n{best_params}\")\n",
    "    print(f\"Best Values: \\n{best_values}\")\n",
    "\n",
    "    factory_safety_stock = best_params[\"factory_s\"]\n",
    "    factory_reorder_amount = best_params[\"factory_Q\"]\n",
    "    safety_stock = (best_params[\"w1_s\"], best_params[\"w2_s\"])\n",
    "    reorder_amount = (best_params[\"w1_Q\"], best_params[\"w2_Q\"])\n",
    "\n",
    "    sq_policy = SQPolicy(\n",
    "        factory_safety_stock,\n",
    "        factory_reorder_amount,\n",
    "        safety_stock,\n",
    "        reorder_amount\n",
    "    )\n",
    "\n",
    "    return_trace = simulate(sq_policy, num_episodes=num_episodes, log=True)\n",
    "\n",
    "    plt.figure(figsize=(16, 4))\n",
    "    plt.plot(range(len(return_trace)), return_trace)\n",
    "    print(\n",
    "        f\"Reward: mean {np.mean(return_trace)}, standard deviation {np.std(return_trace)}\")\n",
    "\n",
    "    plt.show()\n",
    "\n",
    "    # transitions_sQ = simulate_episode(sq_policy, log=True)\n",
    "    # visualize_transitions(np.array(transitions_sQ), T=50)"
   ]
  },
  {
   "cell_type": "code",
   "execution_count": 10,
   "id": "e581c497",
   "metadata": {
    "ExecuteTime": {
     "end_time": "2021-10-15T14:40:02.992483Z",
     "start_time": "2021-10-15T14:40:02.988483Z"
    }
   },
   "outputs": [],
   "source": [
    "total_trials=5\n",
    "num_episodes=5\n",
    "optimization_strategy=\"GridSearch\" ## \"GridSearch\",\"BayesianOptimization\""
   ]
  },
  {
   "cell_type": "code",
   "execution_count": null,
   "id": "f01f7c9d",
   "metadata": {
    "ExecuteTime": {
     "start_time": "2021-10-15T14:40:03.454Z"
    }
   },
   "outputs": [
    {
     "name": "stdout",
     "output_type": "stream",
     "text": [
      "Configuration #0 -- -205990.0\n",
      "Configuration #100 -- -204312.0\n",
      "Configuration #200 -- -202432.0\n",
      "Configuration #300 -- -13341.34\n"
     ]
    }
   ],
   "source": [
    "main(total_trials=total_trials, num_episodes=num_episodes, optimization_strategy=\"GridSearch\")"
   ]
  },
  {
   "cell_type": "code",
   "execution_count": null,
   "id": "cae5dc25",
   "metadata": {},
   "outputs": [],
   "source": []
  }
 ],
 "metadata": {
  "kernelspec": {
   "display_name": "Python 3",
   "language": "python",
   "name": "python3"
  },
  "language_info": {
   "codemirror_mode": {
    "name": "ipython",
    "version": 3
   },
   "file_extension": ".py",
   "mimetype": "text/x-python",
   "name": "python",
   "nbconvert_exporter": "python",
   "pygments_lexer": "ipython3",
   "version": "3.8.8"
  },
  "toc": {
   "base_numbering": 1,
   "nav_menu": {},
   "number_sections": true,
   "sideBar": true,
   "skip_h1_title": false,
   "title_cell": "Table of Contents",
   "title_sidebar": "Contents",
   "toc_cell": false,
   "toc_position": {},
   "toc_section_display": true,
   "toc_window_display": false
  },
  "varInspector": {
   "cols": {
    "lenName": 16,
    "lenType": 16,
    "lenVar": 40
   },
   "kernels_config": {
    "python": {
     "delete_cmd_postfix": "",
     "delete_cmd_prefix": "del ",
     "library": "var_list.py",
     "varRefreshCmd": "print(var_dic_list())"
    },
    "r": {
     "delete_cmd_postfix": ") ",
     "delete_cmd_prefix": "rm(",
     "library": "var_list.r",
     "varRefreshCmd": "cat(var_dic_list()) "
    }
   },
   "types_to_exclude": [
    "module",
    "function",
    "builtin_function_or_method",
    "instance",
    "_Feature"
   ],
   "window_display": false
  }
 },
 "nbformat": 4,
 "nbformat_minor": 5
}
