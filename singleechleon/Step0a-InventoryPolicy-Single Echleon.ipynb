{
 "cells": [
  {
   "cell_type": "markdown",
   "id": "4566d67b",
   "metadata": {},
   "source": [
    "## Import "
   ]
  },
  {
   "cell_type": "code",
   "execution_count": 43,
   "id": "b86a0f09",
   "metadata": {
    "ExecuteTime": {
     "end_time": "2021-10-15T13:34:07.480458Z",
     "start_time": "2021-10-15T13:34:07.462458Z"
    }
   },
   "outputs": [],
   "source": [
    "import gym\n",
    "import itertools\n",
    "import numpy as np\n",
    "import scipy.stats as stats\n",
    "#from scipy.stats import *\n",
    "from or_gym.utils import assign_env_config\n",
    "from collections import deque"
   ]
  },
  {
   "cell_type": "code",
   "execution_count": 44,
   "id": "830ae549",
   "metadata": {
    "ExecuteTime": {
     "end_time": "2021-10-15T13:34:08.235920Z",
     "start_time": "2021-10-15T13:34:08.224956Z"
    }
   },
   "outputs": [],
   "source": [
    "import matplotlib.pyplot as plt\n",
    "import math\n",
    "import warnings"
   ]
  },
  {
   "cell_type": "code",
   "execution_count": 45,
   "id": "1b60bf66",
   "metadata": {
    "ExecuteTime": {
     "end_time": "2021-10-15T13:34:08.985499Z",
     "start_time": "2021-10-15T13:34:08.974507Z"
    }
   },
   "outputs": [],
   "source": [
    "import pandas as pd"
   ]
  },
  {
   "cell_type": "markdown",
   "id": "ac47961e",
   "metadata": {
    "ExecuteTime": {
     "end_time": "2021-10-15T13:33:30.364353Z",
     "start_time": "2021-10-15T13:33:30.352315Z"
    },
    "heading_collapsed": true
   },
   "source": [
    "## Fixed Demand --Not useful"
   ]
  },
  {
   "cell_type": "code",
   "execution_count": 4,
   "id": "7bd4a38b",
   "metadata": {
    "ExecuteTime": {
     "end_time": "2021-10-15T12:16:56.867676Z",
     "start_time": "2021-10-15T12:16:56.854676Z"
    },
    "hidden": true
   },
   "outputs": [],
   "source": [
    "# Deterministic constant demand\n",
    "def demand(D):\n",
    "    return D\n",
    "\n",
    "# Order every cycle time\n",
    "def order(t, T, Q):\n",
    "    # Reorder when t = 1 + k x T \n",
    "    if ((t-1) % T)==0 or (t==1): #((t-1) % T)==0\n",
    "        result = Q\n",
    "    else:\n",
    "        result = 0\n",
    "    return result"
   ]
  },
  {
   "cell_type": "code",
   "execution_count": 23,
   "id": "0203cfea",
   "metadata": {
    "ExecuteTime": {
     "end_time": "2021-10-15T12:27:26.480822Z",
     "start_time": "2021-10-15T12:27:26.468786Z"
    },
    "hidden": true
   },
   "outputs": [],
   "source": [
    "# Simulation version 1: with leadtime uncompensated\n",
    "def sim(Q, T, D_day, T_total, LD):\n",
    "    df_sim = pd.DataFrame({'time': np.array(range(1, T_total+1))})\n",
    "    # Demand Function\n",
    "    df_sim['demand'] = df_sim['time'].apply(lambda t: demand(D_day))\n",
    "    # Order Function\n",
    "    df_sim['order'] = df_sim['time'].apply(lambda t: order(t, T, Q))\n",
    "    # Inventory on Hand = Order - Demand\n",
    "    df_sim['ioh'] = df_sim['order'].cumsum().shift(LD) - df_sim['demand'].cumsum()\n",
    "\n",
    "    # Inventory on Hand: Add extra records for the replenishment time at t = k x T - LD (for visualisation)\n",
    "    df_simp = df_sim[df_sim['time'].apply(lambda t: ((t-LD) % T)==0 and (t!=0 + LD))]\n",
    "    df_simp['ioh'] = df_simp['ioh'] + Q\n",
    "    df_sim = pd.concat([df_sim, df_simp]).sort_values(['time', 'ioh'], ascending= [True, True])\n",
    "    \n",
    "    # Print Results\n",
    "    print(\"Demand during cycle time: {:,} units\".format(round(D_day * T, 2)))\n",
    "    print(\"Average IOH for {:,} days cycle time: {:,} units\".format(T, round(df_sim['ioh'].mean(),2)))\n",
    "    return df_sim,df_simp"
   ]
  },
  {
   "cell_type": "code",
   "execution_count": 24,
   "id": "91a94668",
   "metadata": {
    "ExecuteTime": {
     "end_time": "2021-10-15T12:27:26.977587Z",
     "start_time": "2021-10-15T12:27:26.967577Z"
    },
    "hidden": true
   },
   "outputs": [],
   "source": [
    "# Total Demand (units/year)\n",
    "D = 2000\n",
    "# Total Time (days)\n",
    "T_total = 365\n",
    "# Demand per day (unit/day)\n",
    "D_day = D/T_total\n",
    "# Cost of product ($/unit)\n",
    "c = 50\n",
    "# Cost of placing an order ($/order)\n",
    "c_t = 500\n",
    "# Holding Cost (% unit cost per year)\n",
    "h = .25\n",
    "c_e = h * c\n",
    "# Selling Price ($/unit)\n",
    "p = 75\n",
    "# Lead Time between ordering and receiving\n",
    "LD = 0\n",
    "# Replenishment Period\n",
    "T = 10\n",
    "# Order Quantity 1: 0 stock\n",
    "Q = D_day * T\n",
    "# Cost of shortage ($/unit)\n",
    "c_s = 12"
   ]
  },
  {
   "cell_type": "code",
   "execution_count": 25,
   "id": "51c1fec0",
   "metadata": {
    "ExecuteTime": {
     "end_time": "2021-10-15T12:27:27.419908Z",
     "start_time": "2021-10-15T12:27:27.399915Z"
    },
    "hidden": true
   },
   "outputs": [
    {
     "name": "stdout",
     "output_type": "stream",
     "text": [
      "LD = 0 days\n"
     ]
    }
   ],
   "source": [
    "print(\"LD = {:,} days\".format(LD))"
   ]
  },
  {
   "cell_type": "code",
   "execution_count": 26,
   "id": "9e9c3858",
   "metadata": {
    "ExecuteTime": {
     "end_time": "2021-10-15T12:27:28.152377Z",
     "start_time": "2021-10-15T12:27:28.124380Z"
    },
    "hidden": true
   },
   "outputs": [
    {
     "name": "stdout",
     "output_type": "stream",
     "text": [
      "Demand during cycle time: 54.79 units\n",
      "Average IOH for 10 days cycle time: 27.53 units\n"
     ]
    },
    {
     "name": "stderr",
     "output_type": "stream",
     "text": [
      "<ipython-input-23-02db71b92c76>:13: SettingWithCopyWarning: \n",
      "A value is trying to be set on a copy of a slice from a DataFrame.\n",
      "Try using .loc[row_indexer,col_indexer] = value instead\n",
      "\n",
      "See the caveats in the documentation: https://pandas.pydata.org/pandas-docs/stable/user_guide/indexing.html#returning-a-view-versus-a-copy\n",
      "  df_simp['ioh'] = df_simp['ioh'] + Q\n"
     ]
    }
   ],
   "source": [
    "df_sim1,df_sim2 = sim(Q, T, D_day, T_total, LD)"
   ]
  },
  {
   "cell_type": "code",
   "execution_count": 31,
   "id": "aa21b070",
   "metadata": {
    "ExecuteTime": {
     "end_time": "2021-10-15T12:28:27.589844Z",
     "start_time": "2021-10-15T12:28:27.567849Z"
    },
    "hidden": true
   },
   "outputs": [
    {
     "data": {
      "text/html": [
       "<div>\n",
       "<style scoped>\n",
       "    .dataframe tbody tr th:only-of-type {\n",
       "        vertical-align: middle;\n",
       "    }\n",
       "\n",
       "    .dataframe tbody tr th {\n",
       "        vertical-align: top;\n",
       "    }\n",
       "\n",
       "    .dataframe thead th {\n",
       "        text-align: right;\n",
       "    }\n",
       "</style>\n",
       "<table border=\"1\" class=\"dataframe\">\n",
       "  <thead>\n",
       "    <tr style=\"text-align: right;\">\n",
       "      <th></th>\n",
       "      <th>time</th>\n",
       "      <th>demand</th>\n",
       "      <th>order</th>\n",
       "      <th>ioh</th>\n",
       "    </tr>\n",
       "  </thead>\n",
       "  <tbody>\n",
       "    <tr>\n",
       "      <th>0</th>\n",
       "      <td>1</td>\n",
       "      <td>5.479452</td>\n",
       "      <td>54.794521</td>\n",
       "      <td>49.315068</td>\n",
       "    </tr>\n",
       "    <tr>\n",
       "      <th>1</th>\n",
       "      <td>2</td>\n",
       "      <td>5.479452</td>\n",
       "      <td>0.000000</td>\n",
       "      <td>43.835616</td>\n",
       "    </tr>\n",
       "    <tr>\n",
       "      <th>2</th>\n",
       "      <td>3</td>\n",
       "      <td>5.479452</td>\n",
       "      <td>0.000000</td>\n",
       "      <td>38.356164</td>\n",
       "    </tr>\n",
       "    <tr>\n",
       "      <th>3</th>\n",
       "      <td>4</td>\n",
       "      <td>5.479452</td>\n",
       "      <td>0.000000</td>\n",
       "      <td>32.876712</td>\n",
       "    </tr>\n",
       "    <tr>\n",
       "      <th>4</th>\n",
       "      <td>5</td>\n",
       "      <td>5.479452</td>\n",
       "      <td>0.000000</td>\n",
       "      <td>27.397260</td>\n",
       "    </tr>\n",
       "    <tr>\n",
       "      <th>5</th>\n",
       "      <td>6</td>\n",
       "      <td>5.479452</td>\n",
       "      <td>0.000000</td>\n",
       "      <td>21.917808</td>\n",
       "    </tr>\n",
       "    <tr>\n",
       "      <th>6</th>\n",
       "      <td>7</td>\n",
       "      <td>5.479452</td>\n",
       "      <td>0.000000</td>\n",
       "      <td>16.438356</td>\n",
       "    </tr>\n",
       "    <tr>\n",
       "      <th>7</th>\n",
       "      <td>8</td>\n",
       "      <td>5.479452</td>\n",
       "      <td>0.000000</td>\n",
       "      <td>10.958904</td>\n",
       "    </tr>\n",
       "    <tr>\n",
       "      <th>8</th>\n",
       "      <td>9</td>\n",
       "      <td>5.479452</td>\n",
       "      <td>0.000000</td>\n",
       "      <td>5.479452</td>\n",
       "    </tr>\n",
       "    <tr>\n",
       "      <th>9</th>\n",
       "      <td>10</td>\n",
       "      <td>5.479452</td>\n",
       "      <td>0.000000</td>\n",
       "      <td>0.000000</td>\n",
       "    </tr>\n",
       "    <tr>\n",
       "      <th>9</th>\n",
       "      <td>10</td>\n",
       "      <td>5.479452</td>\n",
       "      <td>0.000000</td>\n",
       "      <td>54.794521</td>\n",
       "    </tr>\n",
       "    <tr>\n",
       "      <th>10</th>\n",
       "      <td>11</td>\n",
       "      <td>5.479452</td>\n",
       "      <td>54.794521</td>\n",
       "      <td>49.315068</td>\n",
       "    </tr>\n",
       "    <tr>\n",
       "      <th>11</th>\n",
       "      <td>12</td>\n",
       "      <td>5.479452</td>\n",
       "      <td>0.000000</td>\n",
       "      <td>43.835616</td>\n",
       "    </tr>\n",
       "    <tr>\n",
       "      <th>12</th>\n",
       "      <td>13</td>\n",
       "      <td>5.479452</td>\n",
       "      <td>0.000000</td>\n",
       "      <td>38.356164</td>\n",
       "    </tr>\n",
       "    <tr>\n",
       "      <th>13</th>\n",
       "      <td>14</td>\n",
       "      <td>5.479452</td>\n",
       "      <td>0.000000</td>\n",
       "      <td>32.876712</td>\n",
       "    </tr>\n",
       "  </tbody>\n",
       "</table>\n",
       "</div>"
      ],
      "text/plain": [
       "    time    demand      order        ioh\n",
       "0      1  5.479452  54.794521  49.315068\n",
       "1      2  5.479452   0.000000  43.835616\n",
       "2      3  5.479452   0.000000  38.356164\n",
       "3      4  5.479452   0.000000  32.876712\n",
       "4      5  5.479452   0.000000  27.397260\n",
       "5      6  5.479452   0.000000  21.917808\n",
       "6      7  5.479452   0.000000  16.438356\n",
       "7      8  5.479452   0.000000  10.958904\n",
       "8      9  5.479452   0.000000   5.479452\n",
       "9     10  5.479452   0.000000   0.000000\n",
       "9     10  5.479452   0.000000  54.794521\n",
       "10    11  5.479452  54.794521  49.315068\n",
       "11    12  5.479452   0.000000  43.835616\n",
       "12    13  5.479452   0.000000  38.356164\n",
       "13    14  5.479452   0.000000  32.876712"
      ]
     },
     "execution_count": 31,
     "metadata": {},
     "output_type": "execute_result"
    }
   ],
   "source": [
    "df_sim1.head(15)"
   ]
  },
  {
   "cell_type": "code",
   "execution_count": 32,
   "id": "49ae0052",
   "metadata": {
    "ExecuteTime": {
     "end_time": "2021-10-15T12:32:12.880122Z",
     "start_time": "2021-10-15T12:32:11.427013Z"
    },
    "hidden": true
   },
   "outputs": [
    {
     "data": {
      "image/png": "[encoded data removed]",
      "text/plain": [
       "<Figure size 1440x1080 with 3 Axes>"
      ]
     },
     "metadata": {
      "needs_background": "light"
     },
     "output_type": "display_data"
    }
   ],
   "source": [
    "# Plot\n",
    "figure, axes = plt.subplots(3, 1)\n",
    "\n",
    "df_sim1.plot(figsize=(20, 12), xlim=[0,300] , x='time', y='demand', ax=axes[0], grid = True, color = 'r')\n",
    "df_sim1.plot.scatter(figsize=(20, 12), xlim=[0,300], x='time', y='order', ax=axes[1], grid = True, color ='b')\n",
    "df_sim1.plot(figsize=(20, 15), xlim=[0, 300], x='time', y='ioh', ax=axes[2], grid = True, color = 'g')\n",
    "\n",
    "plt.xlabel('Time (day)')\n",
    "plt.ylabel('ioh')\n",
    "plt.xticks(rotation=90)\n",
    "\n",
    "plt.show()"
   ]
  },
  {
   "cell_type": "code",
   "execution_count": null,
   "id": "c7693e6f",
   "metadata": {
    "hidden": true
   },
   "outputs": [],
   "source": []
  },
  {
   "cell_type": "code",
   "execution_count": null,
   "id": "d5299652",
   "metadata": {
    "hidden": true
   },
   "outputs": [],
   "source": []
  },
  {
   "cell_type": "code",
   "execution_count": 2,
   "id": "c4301910",
   "metadata": {
    "ExecuteTime": {
     "end_time": "2021-10-14T14:55:31.306161Z",
     "start_time": "2021-10-14T14:55:31.292150Z"
    },
    "hidden": true
   },
   "outputs": [
    {
     "data": {
      "text/plain": [
       "array([[0., 0., 0., 0.],\n",
       "       [0., 0., 0., 0.],\n",
       "       [0., 0., 0., 0.],\n",
       "       [0., 0., 0., 0.],\n",
       "       [0., 0., 0., 0.]])"
      ]
     },
     "execution_count": 2,
     "metadata": {},
     "output_type": "execute_result"
    }
   ],
   "source": [
    "np.zeros([5,4])"
   ]
  },
  {
   "cell_type": "code",
   "execution_count": 4,
   "id": "9dd61266",
   "metadata": {
    "ExecuteTime": {
     "end_time": "2021-10-14T15:02:10.670074Z",
     "start_time": "2021-10-14T15:02:10.658081Z"
    },
    "hidden": true
   },
   "outputs": [
    {
     "data": {
      "text/plain": [
       "10"
      ]
     },
     "execution_count": 4,
     "metadata": {},
     "output_type": "execute_result"
    }
   ],
   "source": [
    "L = [3, 5, 10]\n",
    "lead_time = np.array(list(L))\n",
    "lt_max = lead_time.max()\n",
    "lt_max"
   ]
  },
  {
   "cell_type": "code",
   "execution_count": 5,
   "id": "214ddcbe",
   "metadata": {
    "ExecuteTime": {
     "end_time": "2021-10-14T15:04:33.969527Z",
     "start_time": "2021-10-14T15:04:33.949528Z"
    },
    "hidden": true
   },
   "outputs": [
    {
     "data": {
      "text/plain": [
       "20"
      ]
     },
     "execution_count": 5,
     "metadata": {},
     "output_type": "execute_result"
    }
   ],
   "source": [
    "poisson.rvs(mu=20)"
   ]
  },
  {
   "cell_type": "code",
   "execution_count": 6,
   "id": "a3d9f82d",
   "metadata": {
    "ExecuteTime": {
     "end_time": "2021-10-14T15:09:03.580896Z",
     "start_time": "2021-10-14T15:09:03.564904Z"
    },
    "hidden": true
   },
   "outputs": [
    {
     "data": {
      "text/plain": [
       "array([0., 0., 0., 0., 0., 0., 0., 0., 0., 0., 0., 0., 0., 0., 0., 0., 0.,\n",
       "       0., 0., 0., 0., 0., 0., 0., 0., 0., 0., 0., 0., 0.])"
      ]
     },
     "execution_count": 6,
     "metadata": {},
     "output_type": "execute_result"
    }
   ],
   "source": [
    "np.zeros(30)"
   ]
  },
  {
   "cell_type": "code",
   "execution_count": 7,
   "id": "d481d2ef",
   "metadata": {
    "ExecuteTime": {
     "end_time": "2021-10-14T15:21:30.677750Z",
     "start_time": "2021-10-14T15:21:30.669743Z"
    },
    "hidden": true
   },
   "outputs": [
    {
     "data": {
      "text/plain": [
       "{(1,\n",
       "  0): array([0., 0., 0., 0., 0., 0., 0., 0., 0., 0., 0., 0., 0., 0., 0., 0., 0.,\n",
       "        0., 0., 0., 0., 0., 0., 0., 0., 0., 0., 0., 0., 0.])}"
      ]
     },
     "execution_count": 7,
     "metadata": {},
     "output_type": "execute_result"
    }
   ],
   "source": [
    "{(1,0): np.zeros(30)}"
   ]
  },
  {
   "cell_type": "code",
   "execution_count": 10,
   "id": "52347045",
   "metadata": {
    "ExecuteTime": {
     "end_time": "2021-10-14T16:41:28.789910Z",
     "start_time": "2021-10-14T16:41:28.780921Z"
    },
    "hidden": true
   },
   "outputs": [],
   "source": [
    "initial_guess = [2000, 350, 700, 150, 400,1000, 250, 200, 150, 200]"
   ]
  },
  {
   "cell_type": "code",
   "execution_count": 13,
   "id": "1735c4c6",
   "metadata": {
    "ExecuteTime": {
     "end_time": "2021-10-14T16:41:59.478799Z",
     "start_time": "2021-10-14T16:41:59.471805Z"
    },
    "hidden": true
   },
   "outputs": [
    {
     "name": "stdout",
     "output_type": "stream",
     "text": [
      "[3000  600  900  300  600]\n",
      "[10000  3000   600   900   300   600]\n"
     ]
    }
   ],
   "source": [
    "excess_inventory_guess = initial_guess[:(6 - 1)]\n",
    "ROP_guess = initial_guess[(6 - 1):]\n",
    "base_stock_guess = np.add(excess_inventory_guess, ROP_guess)\n",
    "print(base_stock_guess)\n",
    "# Insert the supply node's base stock\n",
    "baseStock = np.insert(base_stock_guess, 0, 10000)\n",
    "print(baseStock)"
   ]
  },
  {
   "cell_type": "code",
   "execution_count": 12,
   "id": "3a2eb857",
   "metadata": {
    "ExecuteTime": {
     "end_time": "2021-10-14T16:41:32.585165Z",
     "start_time": "2021-10-14T16:41:32.573173Z"
    },
    "hidden": true
   },
   "outputs": [
    {
     "data": {
      "text/plain": [
       "array([10000,  3000,   600,   900,   300,   600])"
      ]
     },
     "execution_count": 12,
     "metadata": {},
     "output_type": "execute_result"
    }
   ],
   "source": [
    "baseStock"
   ]
  },
  {
   "cell_type": "code",
   "execution_count": 16,
   "id": "c754624f",
   "metadata": {
    "ExecuteTime": {
     "end_time": "2021-10-14T16:49:52.761453Z",
     "start_time": "2021-10-14T16:49:52.738515Z"
    },
    "hidden": true
   },
   "outputs": [
    {
     "data": {
      "text/plain": [
       "3"
      ]
     },
     "execution_count": 16,
     "metadata": {},
     "output_type": "execute_result"
    }
   ],
   "source": [
    "np.random.choice([1,2,3,4,5], replace=True)"
   ]
  },
  {
   "cell_type": "code",
   "execution_count": 34,
   "id": "7964e3d7",
   "metadata": {
    "ExecuteTime": {
     "end_time": "2021-10-14T17:16:42.952842Z",
     "start_time": "2021-10-14T17:16:42.942839Z"
    },
    "hidden": true
   },
   "outputs": [],
   "source": [
    "DEMAND_DATA_PATH = r\"C:\\Users\\kishore.kukreja\\Downloads\\data (3).csv\"\n",
    "NUM_WAREHOUSES = 2\n",
    "EPISODE_DURATION = 50\n",
    "d_max = 5\n",
    "UNIT_PRICE = 100\n",
    "UNIT_COST = 40"
   ]
  },
  {
   "cell_type": "code",
   "execution_count": 35,
   "id": "625677d8",
   "metadata": {
    "ExecuteTime": {
     "end_time": "2021-10-14T17:16:51.612777Z",
     "start_time": "2021-10-14T17:16:51.593779Z"
    },
    "hidden": true
   },
   "outputs": [],
   "source": [
    "demand_data=pd.read_clipboard()"
   ]
  },
  {
   "cell_type": "code",
   "execution_count": 36,
   "id": "416dbbbb",
   "metadata": {
    "ExecuteTime": {
     "end_time": "2021-10-14T17:16:52.978465Z",
     "start_time": "2021-10-14T17:16:52.953503Z"
    },
    "hidden": true
   },
   "outputs": [
    {
     "data": {
      "text/html": [
       "<div>\n",
       "<style scoped>\n",
       "    .dataframe tbody tr th:only-of-type {\n",
       "        vertical-align: middle;\n",
       "    }\n",
       "\n",
       "    .dataframe tbody tr th {\n",
       "        vertical-align: top;\n",
       "    }\n",
       "\n",
       "    .dataframe thead th {\n",
       "        text-align: right;\n",
       "    }\n",
       "</style>\n",
       "<table border=\"1\" class=\"dataframe\">\n",
       "  <thead>\n",
       "    <tr style=\"text-align: right;\">\n",
       "      <th></th>\n",
       "      <th>Date</th>\n",
       "      <th>demand_1359</th>\n",
       "      <th>demand_1295</th>\n",
       "    </tr>\n",
       "  </thead>\n",
       "  <tbody>\n",
       "    <tr>\n",
       "      <th>0</th>\n",
       "      <td>40913</td>\n",
       "      <td>702000</td>\n",
       "      <td>78700</td>\n",
       "    </tr>\n",
       "    <tr>\n",
       "      <th>1</th>\n",
       "      <td>40914</td>\n",
       "      <td>676000</td>\n",
       "      <td>102100</td>\n",
       "    </tr>\n",
       "    <tr>\n",
       "      <th>2</th>\n",
       "      <td>40918</td>\n",
       "      <td>783000</td>\n",
       "      <td>134000</td>\n",
       "    </tr>\n",
       "    <tr>\n",
       "      <th>3</th>\n",
       "      <td>40919</td>\n",
       "      <td>200000</td>\n",
       "      <td>37600</td>\n",
       "    </tr>\n",
       "    <tr>\n",
       "      <th>4</th>\n",
       "      <td>40920</td>\n",
       "      <td>284000</td>\n",
       "      <td>32100</td>\n",
       "    </tr>\n",
       "  </tbody>\n",
       "</table>\n",
       "</div>"
      ],
      "text/plain": [
       "    Date  demand_1359  demand_1295\n",
       "0  40913       702000        78700\n",
       "1  40914       676000       102100\n",
       "2  40918       783000       134000\n",
       "3  40919       200000        37600\n",
       "4  40920       284000        32100"
      ]
     },
     "execution_count": 36,
     "metadata": {},
     "output_type": "execute_result"
    }
   ],
   "source": [
    "demand_data.head()"
   ]
  },
  {
   "cell_type": "code",
   "execution_count": 42,
   "id": "5f42f2b8",
   "metadata": {
    "ExecuteTime": {
     "end_time": "2021-10-14T17:17:29.492059Z",
     "start_time": "2021-10-14T17:17:29.481096Z"
    },
    "hidden": true
   },
   "outputs": [
    {
     "data": {
      "text/plain": [
       "(1207, 2)"
      ]
     },
     "execution_count": 42,
     "metadata": {},
     "output_type": "execute_result"
    }
   ],
   "source": [
    "demand_data.shape"
   ]
  },
  {
   "cell_type": "code",
   "execution_count": 37,
   "id": "5a0cca63",
   "metadata": {
    "ExecuteTime": {
     "end_time": "2021-10-14T17:16:53.575668Z",
     "start_time": "2021-10-14T17:16:53.561669Z"
    },
    "hidden": true
   },
   "outputs": [],
   "source": [
    "def rescale(dd, demand_range=(0, 1)):\n",
    "    min_val, max_val = demand_range\n",
    "    dd_min, dd_max = dd.min(axis=0), dd.max(axis=0)\n",
    "    dd = (dd - dd_min) / (dd_max - dd_min)  # [0, 1]\n",
    "    dd = min_val + (max_val - min_val) * dd\n",
    "    return dd"
   ]
  },
  {
   "cell_type": "code",
   "execution_count": 38,
   "id": "cff9cf27",
   "metadata": {
    "ExecuteTime": {
     "end_time": "2021-10-14T17:16:54.319980Z",
     "start_time": "2021-10-14T17:16:54.283973Z"
    },
    "hidden": true
   },
   "outputs": [],
   "source": [
    "#demand_data = pd.read_csv(DEMAND_DATA_PATH,encoding='utf-16')\n",
    "demand_data = demand_data.drop(columns=[\"Date\"]).to_numpy()\n",
    "demand_data = rescale(demand_data, demand_range=(1, d_max))\n",
    "demand_data1= demand_data"
   ]
  },
  {
   "cell_type": "code",
   "execution_count": 43,
   "id": "5eaeee91",
   "metadata": {
    "ExecuteTime": {
     "end_time": "2021-10-14T17:17:43.828679Z",
     "start_time": "2021-10-14T17:17:43.808683Z"
    },
    "hidden": true
   },
   "outputs": [
    {
     "data": {
      "text/plain": [
       "array([[2.24168514, 1.55361859],\n",
       "       [2.19556541, 1.71843634],\n",
       "       [2.38536585, 1.94312379],\n",
       "       ...,\n",
       "       [1.5037694 , 3.11234372],\n",
       "       [1.15609756, 1.219757  ],\n",
       "       [1.24478936, 1.37260081]])"
      ]
     },
     "execution_count": 43,
     "metadata": {},
     "output_type": "execute_result"
    }
   ],
   "source": [
    "demand_data1"
   ]
  },
  {
   "cell_type": "code",
   "execution_count": 46,
   "id": "db7798c0",
   "metadata": {
    "ExecuteTime": {
     "end_time": "2021-10-14T17:18:24.561134Z",
     "start_time": "2021-10-14T17:18:24.542465Z"
    },
    "hidden": true
   },
   "outputs": [
    {
     "name": "stdout",
     "output_type": "stream",
     "text": [
      "demand_offset: 1075\n"
     ]
    }
   ],
   "source": [
    "demand_offset = np.random.randint(\n",
    "    low=0, high=demand_data.shape[0])  # 420\n",
    "print(f\"demand_offset: {demand_offset}\")"
   ]
  },
  {
   "cell_type": "markdown",
   "id": "adffe8ba",
   "metadata": {},
   "source": [
    "## sQ Policy for single item with random demand"
   ]
  },
  {
   "cell_type": "markdown",
   "id": "bcc28397",
   "metadata": {},
   "source": [
    "### Continuous Review = your inventory level will be checked every day\n",
    "    (s, Q) = if your inventory level ≤ s your ERP will order Q"
   ]
  },
  {
   "cell_type": "markdown",
   "id": "b72fb955",
   "metadata": {
    "ExecuteTime": {
     "end_time": "2021-10-15T13:31:00.328047Z",
     "start_time": "2021-10-15T13:31:00.316051Z"
    },
    "heading_collapsed": true
   },
   "source": [
    "#### Fixed CSL out of 100 orders how many you satisfied"
   ]
  },
  {
   "cell_type": "code",
   "execution_count": 46,
   "id": "98e20682",
   "metadata": {
    "ExecuteTime": {
     "end_time": "2021-10-15T13:34:12.151012Z",
     "start_time": "2021-10-15T13:34:11.959440Z"
    },
    "hidden": true
   },
   "outputs": [
    {
     "name": "stdout",
     "output_type": "stream",
     "text": [
      "Average demand during lead time: 27 units\n",
      "Standard deviation during lead time: 5 units\n",
      "k = 1.64\n",
      "Reoder point with CSL: 36 units\n"
     ]
    }
   ],
   "source": [
    "# Days per year\n",
    "T_total = 365\n",
    "# Annual Demand = N(2000, 50)\n",
    "mu = 2000\n",
    "sigma = 50\n",
    "variance = sigma **2\n",
    "# Total Demand (units/year)\n",
    "D = mu\n",
    "# Demand (unit/day)\n",
    "D_day = D/T_total\n",
    "# Standard Deviation (day)\n",
    "sigma_Day = sigma /math.sqrt(T_total)\n",
    "# Cost of item ($/unit)\n",
    "c = 100\n",
    "# Holding Cost (%/year)\n",
    "h = 0.15\n",
    "c_e = c * h\n",
    "# Holding Cost (%/year)\n",
    "h = 0.15\n",
    "# Lead Time (days)\n",
    "LD = 5\n",
    "# Order Quantity Q*: you want to cover 3 lead times \n",
    "Q = D_day * 15\n",
    "# Cost per Stock Out\n",
    "B1 = 50000\n",
    "\n",
    "# 1. We fix CSL = 95%\n",
    "CSL = 0.95\n",
    "\n",
    "# Average during lead time period\n",
    "mu_ld = math.floor(mu * LD /(T_total))\n",
    "print(\"Average demand during lead time: {:,} units\".format(mu_ld))\n",
    "# Standard deviation \n",
    "sigma_ld = sigma * math.sqrt(LD /(T_total))\n",
    "print(\"Standard deviation during lead time: {:,} units\".format(math.floor(sigma_ld)))\n",
    "# Level of Service to fix k\n",
    "k = round(stats.norm(0, 1).ppf(CSL),2)\n",
    "print(\"k = {:,}\".format(round(k, 2)))\n",
    "# Reorder Point\n",
    "s = mu_ld + k * sigma_ld\n",
    "print(\"Reoder point with CSL: {:,} units\".format(math.floor(s)))"
   ]
  },
  {
   "cell_type": "markdown",
   "id": "585a09ef",
   "metadata": {
    "ExecuteTime": {
     "end_time": "2021-10-15T13:35:12.954151Z",
     "start_time": "2021-10-15T13:35:12.941156Z"
    },
    "heading_collapsed": true
   },
   "source": [
    "#### Fill rate Out of 100 units requested how many units delivered"
   ]
  },
  {
   "cell_type": "code",
   "execution_count": 48,
   "id": "f1fa58aa",
   "metadata": {
    "ExecuteTime": {
     "end_time": "2021-10-15T13:35:20.594618Z",
     "start_time": "2021-10-15T13:35:20.559621Z"
    },
    "hidden": true
   },
   "outputs": [
    {
     "name": "stdout",
     "output_type": "stream",
     "text": [
      "Find k for G(k) = 0.14\n"
     ]
    },
    {
     "ename": "NameError",
     "evalue": "name 'unlf' is not defined",
     "output_type": "error",
     "traceback": [
      "\u001b[1;31m---------------------------------------------------------------------------\u001b[0m",
      "\u001b[1;31mNameError\u001b[0m                                 Traceback (most recent call last)",
      "\u001b[1;32m<ipython-input-48-6edff3f2fc87>\u001b[0m in \u001b[0;36m<module>\u001b[1;34m\u001b[0m\n\u001b[0;32m     10\u001b[0m     \u001b[0ml1\u001b[0m\u001b[1;33m.\u001b[0m\u001b[0mappend\u001b[0m\u001b[1;33m(\u001b[0m\u001b[0mk\u001b[0m\u001b[1;33m)\u001b[0m\u001b[1;33m\u001b[0m\u001b[1;33m\u001b[0m\u001b[0m\n\u001b[0;32m     11\u001b[0m     \u001b[1;31m# Sigma = 1 to have sigma x G(k) = G(k)\u001b[0m\u001b[1;33m\u001b[0m\u001b[1;33m\u001b[0m\u001b[1;33m\u001b[0m\u001b[0m\n\u001b[1;32m---> 12\u001b[1;33m     \u001b[0my\u001b[0m \u001b[1;33m=\u001b[0m \u001b[0munlf\u001b[0m\u001b[1;33m(\u001b[0m\u001b[0mk\u001b[0m\u001b[1;33m,\u001b[0m \u001b[1;36m1\u001b[0m\u001b[1;33m)\u001b[0m\u001b[1;33m\u001b[0m\u001b[1;33m\u001b[0m\u001b[0m\n\u001b[0m\u001b[0;32m     13\u001b[0m     \u001b[0ml2\u001b[0m\u001b[1;33m.\u001b[0m\u001b[0mappend\u001b[0m\u001b[1;33m(\u001b[0m\u001b[0my\u001b[0m\u001b[1;33m)\u001b[0m\u001b[1;33m\u001b[0m\u001b[1;33m\u001b[0m\u001b[0m\n\u001b[0;32m     14\u001b[0m \u001b[1;33m\u001b[0m\u001b[0m\n",
      "\u001b[1;31mNameError\u001b[0m: name 'unlf' is not defined"
     ]
    }
   ],
   "source": [
    "# G(k) = Q/sigma_ld * (1 - IFR)\n",
    "IFR = 0.99\n",
    "G_k = (Q/sigma_ld) * (1 - IFR)\n",
    "print(\"Find k for G(k) = {:,}\".format(round(G_k,3)))\n",
    "\n",
    "# Find k\n",
    "l1, l2 = [], []\n",
    "for n in range(1, 300):\n",
    "    k = n * 0.01\n",
    "    l1.append(k)\n",
    "    # Sigma = 1 to have sigma x G(k) = G(k)\n",
    "    y = unlf(k, 1)\n",
    "    l2.append(y)\n",
    "\n",
    "df_result = pd.DataFrame({'k': l1,\n",
    "                         'G(k)':l2})\n",
    "df_result['delta'] = df_result['G(k)'] - G_k\n",
    "# k = min(delta)\n",
    "min_delta = df_result['delta'].abs().min()\n",
    "k_final = df_result[df_result['delta'].abs() == min_delta]['k'].values[0]\n",
    "print(\"Optimal k value = {:,}\".format(k_final))\n",
    "\n",
    "# Reodering point using CSOE\n",
    "s = mu_ld + k_final * sigma_ld\n",
    "print(\"Reoder point with CSL: {:,} units\".format(math.floor(s)))\n",
    "\n",
    "ax = plt.gca()\n",
    "df_result.plot(figsize=(12,8), x=\"k\", y=\"G(k)\", ax = ax, color = 'blue')\n",
    "plt.xlabel('k factor')\n",
    "plt.ylabel('G(k)')\n",
    "plt.axhline(G_k, color='black', linestyle=\"--\")\n",
    "plt.axvline(k_final, color='black', linestyle=\"--\")\n",
    "plt.title('Unit Normal Loss Function')\n",
    "plt.show()"
   ]
  },
  {
   "cell_type": "markdown",
   "id": "2aec3ebd",
   "metadata": {
    "ExecuteTime": {
     "end_time": "2021-10-15T13:36:04.129264Z",
     "start_time": "2021-10-15T13:36:04.113341Z"
    }
   },
   "source": [
    "## RS for single item with random demand Fixed replensihment period"
   ]
  },
  {
   "cell_type": "code",
   "execution_count": null,
   "id": "7ec72e5e",
   "metadata": {},
   "outputs": [],
   "source": [
    "# R = 10\n",
    "R = 10\n",
    "# Item selection\n",
    "SKU_n = df_hob.id.nunique()\n",
    "SKU = df_hob.id.unique()\n",
    "SKU_x = SKU[4]\n",
    "\n",
    "# Demand Function\n",
    "df_sim = pd.DataFrame({'time': np.array(range(1, 365+1))})\n",
    "df_sim['demand'] = np.array(df_vol[SKU_x].values)\n",
    "# Average Daily Demand\n",
    "D_day = math.ceil(df_sim['demand'].mean())\n",
    "print(\"Daily Demand: {:,} units\".format(D_day))\n",
    "# Standard Deviation\n",
    "sigma = df_sim['demand'].std()\n",
    "# Lead Time\n",
    "LD = 2\n",
    "\n",
    "\n",
    "# Average during lead time period\n",
    "mu_ld = math.floor(D_day * (LD+R))\n",
    "print(\"Average demand during lead time: {:,} units\".format(mu_ld))\n",
    "# Standard deviation \n",
    "sigma_ld = sigma * math.sqrt(LD+R)\n",
    "print(\"Standard deviation during lead time: {:,} units\".format(math.floor(sigma_ld)))\n",
    "# Level of Service to fix k\n",
    "k = 1\n",
    "print(\"k = {:,}\".format(round(k, 2)))\n",
    "# Reorder Point\n",
    "S = mu_ld + k * sigma_ld\n",
    "print(\"Order Up to Level: S = {:,} (units)\".format(S))"
   ]
  },
  {
   "cell_type": "code",
   "execution_count": 51,
   "id": "aacf2749",
   "metadata": {
    "ExecuteTime": {
     "end_time": "2021-10-15T13:48:46.265483Z",
     "start_time": "2021-10-15T13:48:46.259479Z"
    }
   },
   "outputs": [
    {
     "data": {
      "text/plain": [
       "1"
      ]
     },
     "execution_count": 51,
     "metadata": {},
     "output_type": "execute_result"
    }
   ],
   "source": [
    "np.random.choice([1,2,3,4])"
   ]
  },
  {
   "cell_type": "code",
   "execution_count": null,
   "id": "edc4cee8",
   "metadata": {},
   "outputs": [],
   "source": []
  }
 ],
 "metadata": {
  "kernelspec": {
   "display_name": "Python 3",
   "language": "python",
   "name": "python3"
  },
  "language_info": {
   "codemirror_mode": {
    "name": "ipython",
    "version": 3
   },
   "file_extension": ".py",
   "mimetype": "text/x-python",
   "name": "python",
   "nbconvert_exporter": "python",
   "pygments_lexer": "ipython3",
   "version": "3.8.8"
  },
  "toc": {
   "base_numbering": 1,
   "nav_menu": {},
   "number_sections": true,
   "sideBar": true,
   "skip_h1_title": false,
   "title_cell": "Table of Contents",
   "title_sidebar": "Contents",
   "toc_cell": false,
   "toc_position": {},
   "toc_section_display": true,
   "toc_window_display": false
  },
  "varInspector": {
   "cols": {
    "lenName": 16,
    "lenType": 16,
    "lenVar": 40
   },
   "kernels_config": {
    "python": {
     "delete_cmd_postfix": "",
     "delete_cmd_prefix": "del ",
     "library": "var_list.py",
     "varRefreshCmd": "print(var_dic_list())"
    },
    "r": {
     "delete_cmd_postfix": ") ",
     "delete_cmd_prefix": "rm(",
     "library": "var_list.r",
     "varRefreshCmd": "cat(var_dic_list()) "
    }
   },
   "types_to_exclude": [
    "module",
    "function",
    "builtin_function_or_method",
    "instance",
    "_Feature"
   ],
   "window_display": false
  }
 },
 "nbformat": 4,
 "nbformat_minor": 5
}
